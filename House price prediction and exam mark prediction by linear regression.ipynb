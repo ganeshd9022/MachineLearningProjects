{
 "cells": [
  {
   "cell_type": "markdown",
   "id": "a86d953a",
   "metadata": {},
   "source": [
    "# Ganesh Narharee Dhere \n",
    "R.NO.40"
   ]
  },
  {
   "cell_type": "code",
   "execution_count": 84,
   "id": "1f445cd8",
   "metadata": {},
   "outputs": [],
   "source": [
    "import pandas as pd\n",
    "from sklearn.linear_model import LinearRegression \n",
    "import matplotlib.pyplot as plt"
   ]
  },
  {
   "cell_type": "code",
   "execution_count": null,
   "id": "28852ff6",
   "metadata": {},
   "outputs": [],
   "source": [
    "data = pd.read_csv('house.csv')"
   ]
  },
  {
   "cell_type": "code",
   "execution_count": 86,
   "id": "dab4b5dd",
   "metadata": {},
   "outputs": [
    {
     "name": "stdout",
     "output_type": "stream",
     "text": [
      "(1460, 2)\n",
      "     area   price\n",
      "0    8450  208500\n",
      "1    9600  181500\n",
      "2   11250  223500\n",
      "3    9550  140000\n",
      "4   14260  250000\n",
      "5   14115  143000\n",
      "6   10084  307000\n",
      "7   10382  200000\n",
      "8    6120  129900\n",
      "9    7420  118000\n",
      "10  11200  129500\n",
      "11  11924  345000\n",
      "12  12968  144000\n",
      "13  10652  279500\n",
      "14  10920  157000\n",
      "15   6120  132000\n",
      "16  11241  149000\n",
      "17  10791   90000\n",
      "18  13695  159000\n",
      "19   7560  139000\n"
     ]
    }
   ],
   "source": [
    "print (data.shape)\n",
    "print (data.head(20))"
   ]
  },
  {
   "cell_type": "code",
   "execution_count": 87,
   "id": "4944c97f",
   "metadata": {},
   "outputs": [
    {
     "name": "stdout",
     "output_type": "stream",
     "text": [
      "<class 'pandas.core.frame.DataFrame'>\n",
      "RangeIndex: 1460 entries, 0 to 1459\n",
      "Data columns (total 2 columns):\n",
      " #   Column  Non-Null Count  Dtype\n",
      "---  ------  --------------  -----\n",
      " 0   area    1460 non-null   int64\n",
      " 1   price   1460 non-null   int64\n",
      "dtypes: int64(2)\n",
      "memory usage: 22.9 KB\n"
     ]
    }
   ],
   "source": [
    "data.info()\n"
   ]
  },
  {
   "cell_type": "code",
   "execution_count": 88,
   "id": "04b1edc9",
   "metadata": {},
   "outputs": [
    {
     "data": {
      "text/html": [
       "<div>\n",
       "<style scoped>\n",
       "    .dataframe tbody tr th:only-of-type {\n",
       "        vertical-align: middle;\n",
       "    }\n",
       "\n",
       "    .dataframe tbody tr th {\n",
       "        vertical-align: top;\n",
       "    }\n",
       "\n",
       "    .dataframe thead th {\n",
       "        text-align: right;\n",
       "    }\n",
       "</style>\n",
       "<table border=\"1\" class=\"dataframe\">\n",
       "  <thead>\n",
       "    <tr style=\"text-align: right;\">\n",
       "      <th></th>\n",
       "      <th>area</th>\n",
       "      <th>price</th>\n",
       "    </tr>\n",
       "  </thead>\n",
       "  <tbody>\n",
       "    <tr>\n",
       "      <th>count</th>\n",
       "      <td>1460.000000</td>\n",
       "      <td>1460.000000</td>\n",
       "    </tr>\n",
       "    <tr>\n",
       "      <th>mean</th>\n",
       "      <td>10516.828082</td>\n",
       "      <td>180921.195890</td>\n",
       "    </tr>\n",
       "    <tr>\n",
       "      <th>std</th>\n",
       "      <td>9981.264932</td>\n",
       "      <td>79442.502883</td>\n",
       "    </tr>\n",
       "    <tr>\n",
       "      <th>min</th>\n",
       "      <td>1300.000000</td>\n",
       "      <td>34900.000000</td>\n",
       "    </tr>\n",
       "    <tr>\n",
       "      <th>25%</th>\n",
       "      <td>7553.500000</td>\n",
       "      <td>129975.000000</td>\n",
       "    </tr>\n",
       "    <tr>\n",
       "      <th>50%</th>\n",
       "      <td>9478.500000</td>\n",
       "      <td>163000.000000</td>\n",
       "    </tr>\n",
       "    <tr>\n",
       "      <th>75%</th>\n",
       "      <td>11601.500000</td>\n",
       "      <td>214000.000000</td>\n",
       "    </tr>\n",
       "    <tr>\n",
       "      <th>max</th>\n",
       "      <td>215245.000000</td>\n",
       "      <td>755000.000000</td>\n",
       "    </tr>\n",
       "  </tbody>\n",
       "</table>\n",
       "</div>"
      ],
      "text/plain": [
       "                area          price\n",
       "count    1460.000000    1460.000000\n",
       "mean    10516.828082  180921.195890\n",
       "std      9981.264932   79442.502883\n",
       "min      1300.000000   34900.000000\n",
       "25%      7553.500000  129975.000000\n",
       "50%      9478.500000  163000.000000\n",
       "75%     11601.500000  214000.000000\n",
       "max    215245.000000  755000.000000"
      ]
     },
     "execution_count": 88,
     "metadata": {},
     "output_type": "execute_result"
    }
   ],
   "source": [
    "data.describe()\n"
   ]
  },
  {
   "cell_type": "code",
   "execution_count": 89,
   "id": "9d5c6445",
   "metadata": {},
   "outputs": [
    {
     "data": {
      "text/plain": [
       "<matplotlib.collections.PathCollection at 0x21dc5217640>"
      ]
     },
     "execution_count": 89,
     "metadata": {},
     "output_type": "execute_result"
    },
    {
     "data": {
      "image/png": "[encoded data removed]",
      "text/plain": [
       "<Figure size 432x288 with 1 Axes>"
      ]
     },
     "metadata": {
      "needs_background": "light"
     },
     "output_type": "display_data"
    }
   ],
   "source": [
    "plt.xlabel('Area')\n",
    "plt.ylabel('price')\n",
    "plt.scatter(data.area,data.price,color='red',marker='*')\n"
   ]
  },
  {
   "cell_type": "code",
   "execution_count": 90,
   "id": "e4629499",
   "metadata": {},
   "outputs": [
    {
     "data": {
      "text/html": [
       "<div>\n",
       "<style scoped>\n",
       "    .dataframe tbody tr th:only-of-type {\n",
       "        vertical-align: middle;\n",
       "    }\n",
       "\n",
       "    .dataframe tbody tr th {\n",
       "        vertical-align: top;\n",
       "    }\n",
       "\n",
       "    .dataframe thead th {\n",
       "        text-align: right;\n",
       "    }\n",
       "</style>\n",
       "<table border=\"1\" class=\"dataframe\">\n",
       "  <thead>\n",
       "    <tr style=\"text-align: right;\">\n",
       "      <th></th>\n",
       "      <th>area</th>\n",
       "    </tr>\n",
       "  </thead>\n",
       "  <tbody>\n",
       "    <tr>\n",
       "      <th>0</th>\n",
       "      <td>8450</td>\n",
       "    </tr>\n",
       "    <tr>\n",
       "      <th>1</th>\n",
       "      <td>9600</td>\n",
       "    </tr>\n",
       "    <tr>\n",
       "      <th>2</th>\n",
       "      <td>11250</td>\n",
       "    </tr>\n",
       "    <tr>\n",
       "      <th>3</th>\n",
       "      <td>9550</td>\n",
       "    </tr>\n",
       "    <tr>\n",
       "      <th>4</th>\n",
       "      <td>14260</td>\n",
       "    </tr>\n",
       "    <tr>\n",
       "      <th>...</th>\n",
       "      <td>...</td>\n",
       "    </tr>\n",
       "    <tr>\n",
       "      <th>1455</th>\n",
       "      <td>7917</td>\n",
       "    </tr>\n",
       "    <tr>\n",
       "      <th>1456</th>\n",
       "      <td>13175</td>\n",
       "    </tr>\n",
       "    <tr>\n",
       "      <th>1457</th>\n",
       "      <td>9042</td>\n",
       "    </tr>\n",
       "    <tr>\n",
       "      <th>1458</th>\n",
       "      <td>9717</td>\n",
       "    </tr>\n",
       "    <tr>\n",
       "      <th>1459</th>\n",
       "      <td>9937</td>\n",
       "    </tr>\n",
       "  </tbody>\n",
       "</table>\n",
       "<p>1460 rows × 1 columns</p>\n",
       "</div>"
      ],
      "text/plain": [
       "       area\n",
       "0      8450\n",
       "1      9600\n",
       "2     11250\n",
       "3      9550\n",
       "4     14260\n",
       "...     ...\n",
       "1455   7917\n",
       "1456  13175\n",
       "1457   9042\n",
       "1458   9717\n",
       "1459   9937\n",
       "\n",
       "[1460 rows x 1 columns]"
      ]
     },
     "execution_count": 90,
     "metadata": {},
     "output_type": "execute_result"
    }
   ],
   "source": [
    "X = data.drop('price',axis='columns')\n",
    "X"
   ]
  },
  {
   "cell_type": "code",
   "execution_count": 91,
   "id": "a07413ee",
   "metadata": {},
   "outputs": [
    {
     "data": {
      "text/plain": [
       "0       208500\n",
       "1       181500\n",
       "2       223500\n",
       "3       140000\n",
       "4       250000\n",
       "         ...  \n",
       "1455    175000\n",
       "1456    210000\n",
       "1457    266500\n",
       "1458    142125\n",
       "1459    147500\n",
       "Name: price, Length: 1460, dtype: int64"
      ]
     },
     "execution_count": 91,
     "metadata": {},
     "output_type": "execute_result"
    }
   ],
   "source": [
    "Y = data.price\n",
    "Y"
   ]
  },
  {
   "cell_type": "code",
   "execution_count": 92,
   "id": "bd4cb746",
   "metadata": {},
   "outputs": [
    {
     "data": {
      "text/plain": [
       "LinearRegression()"
      ]
     },
     "execution_count": 92,
     "metadata": {},
     "output_type": "execute_result"
    }
   ],
   "source": [
    "model = LinearRegression()\n",
    "model.fit(X,Y)"
   ]
  },
  {
   "cell_type": "code",
   "execution_count": 93,
   "id": "bf164194",
   "metadata": {},
   "outputs": [
    {
     "name": "stdout",
     "output_type": "stream",
     "text": [
      "[26739157.63161846]\n"
     ]
    },
    {
     "name": "stderr",
     "output_type": "stream",
     "text": [
      "C:\\ProgramData\\Anaconda3\\lib\\site-packages\\sklearn\\base.py:450: UserWarning: X does not have valid feature names, but LinearRegression was fitted with feature names\n",
      "  warnings.warn(\n"
     ]
    }
   ],
   "source": [
    "x=1265\n",
    "LandAreainSqFt=[[x]]\n",
    "PredictedmodelResult = model.predict(LandAreainSqFt)\n",
    "print(PredictedmodelResult)"
   ]
  },
  {
   "cell_type": "code",
   "execution_count": 94,
   "id": "59cff62c",
   "metadata": {},
   "outputs": [
    {
     "name": "stdout",
     "output_type": "stream",
     "text": [
      "[2.09997195]\n"
     ]
    }
   ],
   "source": [
    "m=model.coef_\n",
    "print(m)"
   ]
  },
  {
   "cell_type": "code",
   "execution_count": 95,
   "id": "b22b2234",
   "metadata": {},
   "outputs": [
    {
     "name": "stdout",
     "output_type": "stream",
     "text": [
      "158836.1518968766\n"
     ]
    }
   ],
   "source": [
    "b=model.intercept_\n",
    "print(b)"
   ]
  },
  {
   "cell_type": "code",
   "execution_count": 96,
   "id": "de306db1",
   "metadata": {},
   "outputs": [
    {
     "name": "stdout",
     "output_type": "stream",
     "text": [
      "the price of 12657465 square feet Land is: 26739157.631618455\n"
     ]
    }
   ],
   "source": [
    "y = m*x + b\n",
    "print(\"the price of {0} square feet Land is: {1}\". format (x,y[0]))"
   ]
  },
  {
   "cell_type": "markdown",
   "id": "2bc21074",
   "metadata": {},
   "source": [
    "# Part B-Exam Marks"
   ]
  },
  {
   "cell_type": "code",
   "execution_count": 97,
   "id": "90dac27f",
   "metadata": {},
   "outputs": [],
   "source": [
    "from sklearn.linear_model import LinearRegression"
   ]
  },
  {
   "cell_type": "code",
   "execution_count": 98,
   "id": "5868b343",
   "metadata": {},
   "outputs": [],
   "source": [
    "data= pd.read_csv('exam.csv')"
   ]
  },
  {
   "cell_type": "code",
   "execution_count": 99,
   "id": "f3b9a0d2",
   "metadata": {},
   "outputs": [
    {
     "data": {
      "text/html": [
       "<div>\n",
       "<style scoped>\n",
       "    .dataframe tbody tr th:only-of-type {\n",
       "        vertical-align: middle;\n",
       "    }\n",
       "\n",
       "    .dataframe tbody tr th {\n",
       "        vertical-align: top;\n",
       "    }\n",
       "\n",
       "    .dataframe thead th {\n",
       "        text-align: right;\n",
       "    }\n",
       "</style>\n",
       "<table border=\"1\" class=\"dataframe\">\n",
       "  <thead>\n",
       "    <tr style=\"text-align: right;\">\n",
       "      <th></th>\n",
       "      <th>hours</th>\n",
       "      <th>age</th>\n",
       "      <th>internet</th>\n",
       "      <th>marks</th>\n",
       "    </tr>\n",
       "  </thead>\n",
       "  <tbody>\n",
       "    <tr>\n",
       "      <th>count</th>\n",
       "      <td>196.000000</td>\n",
       "      <td>201.000000</td>\n",
       "      <td>201.000000</td>\n",
       "      <td>201.000000</td>\n",
       "    </tr>\n",
       "    <tr>\n",
       "      <th>mean</th>\n",
       "      <td>6.981429</td>\n",
       "      <td>17.467662</td>\n",
       "      <td>0.552239</td>\n",
       "      <td>77.951244</td>\n",
       "    </tr>\n",
       "    <tr>\n",
       "      <th>std</th>\n",
       "      <td>1.266266</td>\n",
       "      <td>1.720523</td>\n",
       "      <td>0.498505</td>\n",
       "      <td>4.919626</td>\n",
       "    </tr>\n",
       "    <tr>\n",
       "      <th>min</th>\n",
       "      <td>4.150000</td>\n",
       "      <td>15.000000</td>\n",
       "      <td>0.000000</td>\n",
       "      <td>68.570000</td>\n",
       "    </tr>\n",
       "    <tr>\n",
       "      <th>25%</th>\n",
       "      <td>5.757500</td>\n",
       "      <td>16.000000</td>\n",
       "      <td>0.000000</td>\n",
       "      <td>73.400000</td>\n",
       "    </tr>\n",
       "    <tr>\n",
       "      <th>50%</th>\n",
       "      <td>7.110000</td>\n",
       "      <td>17.000000</td>\n",
       "      <td>1.000000</td>\n",
       "      <td>77.770000</td>\n",
       "    </tr>\n",
       "    <tr>\n",
       "      <th>75%</th>\n",
       "      <td>8.082500</td>\n",
       "      <td>19.000000</td>\n",
       "      <td>1.000000</td>\n",
       "      <td>82.300000</td>\n",
       "    </tr>\n",
       "    <tr>\n",
       "      <th>max</th>\n",
       "      <td>8.990000</td>\n",
       "      <td>20.000000</td>\n",
       "      <td>1.000000</td>\n",
       "      <td>86.990000</td>\n",
       "    </tr>\n",
       "  </tbody>\n",
       "</table>\n",
       "</div>"
      ],
      "text/plain": [
       "            hours         age    internet       marks\n",
       "count  196.000000  201.000000  201.000000  201.000000\n",
       "mean     6.981429   17.467662    0.552239   77.951244\n",
       "std      1.266266    1.720523    0.498505    4.919626\n",
       "min      4.150000   15.000000    0.000000   68.570000\n",
       "25%      5.757500   16.000000    0.000000   73.400000\n",
       "50%      7.110000   17.000000    1.000000   77.770000\n",
       "75%      8.082500   19.000000    1.000000   82.300000\n",
       "max      8.990000   20.000000    1.000000   86.990000"
      ]
     },
     "execution_count": 99,
     "metadata": {},
     "output_type": "execute_result"
    }
   ],
   "source": [
    "data.describe()"
   ]
  },
  {
   "cell_type": "code",
   "execution_count": 100,
   "id": "c9872b4a",
   "metadata": {},
   "outputs": [
    {
     "name": "stdout",
     "output_type": "stream",
     "text": [
      "(201, 4)\n",
      "   hours  age  internet  marks\n",
      "0   6.83   15         1  78.50\n",
      "1   6.56   16         0  76.74\n",
      "2    NaN   17         1  78.68\n",
      "3   5.67   18         0  71.82\n",
      "4   8.67   19         1  84.19\n",
      "5   7.55   20         0  81.18\n",
      "6   6.67   15         0  76.99\n",
      "7   8.99   16         0  85.46\n",
      "8   5.19   17         1  70.66\n",
      "9   6.75   18         0  77.82\n"
     ]
    }
   ],
   "source": [
    "print(data.shape)\n",
    "print(data.head(10))"
   ]
  },
  {
   "cell_type": "code",
   "execution_count": 101,
   "id": "e59bfd0c",
   "metadata": {},
   "outputs": [],
   "source": [
    "X = data.iloc[:,:-1]. values"
   ]
  },
  {
   "cell_type": "code",
   "execution_count": 102,
   "id": "213835da",
   "metadata": {},
   "outputs": [
    {
     "name": "stdout",
     "output_type": "stream",
     "text": [
      "(201, 3)\n"
     ]
    },
    {
     "data": {
      "text/plain": [
       "array([[ 6.83, 15.  ,  1.  ],\n",
       "       [ 6.56, 16.  ,  0.  ],\n",
       "       [  nan, 17.  ,  1.  ],\n",
       "       [ 5.67, 18.  ,  0.  ],\n",
       "       [ 8.67, 19.  ,  1.  ],\n",
       "       [ 7.55, 20.  ,  0.  ],\n",
       "       [ 6.67, 15.  ,  0.  ],\n",
       "       [ 8.99, 16.  ,  0.  ],\n",
       "       [ 5.19, 17.  ,  1.  ],\n",
       "       [ 6.75, 18.  ,  0.  ],\n",
       "       [ 6.59, 19.  ,  0.  ],\n",
       "       [ 8.56, 20.  ,  1.  ],\n",
       "       [ 7.75, 15.  ,  0.  ],\n",
       "       [ 7.9 , 16.  ,  1.  ],\n",
       "       [ 8.19, 17.  ,  0.  ],\n",
       "       [ 6.55, 18.  ,  1.  ],\n",
       "       [ 6.36, 19.  ,  0.  ],\n",
       "       [ 8.44, 20.  ,  1.  ],\n",
       "       [ 8.41, 15.  ,  0.  ],\n",
       "       [ 7.67, 16.  ,  1.  ],\n",
       "       [ 7.42, 17.  ,  1.  ],\n",
       "       [ 8.16, 18.  ,  1.  ],\n",
       "       [ 5.05, 19.  ,  1.  ],\n",
       "       [ 5.85, 20.  ,  1.  ],\n",
       "       [ 5.45, 15.  ,  0.  ],\n",
       "       [ 7.96, 16.  ,  0.  ],\n",
       "       [ 6.51, 17.  ,  0.  ],\n",
       "       [ 6.73, 18.  ,  0.  ],\n",
       "       [ 5.94, 19.  ,  1.  ],\n",
       "       [ 7.48, 20.  ,  0.  ],\n",
       "       [ 8.13, 15.  ,  1.  ],\n",
       "       [  nan, 16.  ,  1.  ],\n",
       "       [ 5.4 , 17.  ,  1.  ],\n",
       "       [ 8.78, 18.  ,  0.  ],\n",
       "       [ 8.72, 19.  ,  1.  ],\n",
       "       [ 7.1 , 20.  ,  0.  ],\n",
       "       [ 7.86, 15.  ,  1.  ],\n",
       "       [ 7.19, 16.  ,  0.  ],\n",
       "       [ 5.62, 17.  ,  1.  ],\n",
       "       [ 7.88, 18.  ,  0.  ],\n",
       "       [ 5.28, 19.  ,  1.  ],\n",
       "       [ 8.92, 20.  ,  1.  ],\n",
       "       [ 5.46, 15.  ,  0.  ],\n",
       "       [ 8.3 , 16.  ,  1.  ],\n",
       "       [ 8.09, 17.  ,  0.  ],\n",
       "       [ 6.18, 18.  ,  1.  ],\n",
       "       [ 7.01, 19.  ,  1.  ],\n",
       "       [ 5.01, 20.  ,  0.  ],\n",
       "       [ 5.54, 15.  ,  1.  ],\n",
       "       [ 5.09, 16.  ,  1.  ],\n",
       "       [ 5.09, 17.  ,  0.  ],\n",
       "       [ 7.31, 18.  ,  1.  ],\n",
       "       [ 8.71, 19.  ,  0.  ],\n",
       "       [ 5.52, 20.  ,  1.  ],\n",
       "       [ 8.76, 15.  ,  0.  ],\n",
       "       [ 8.69, 16.  ,  1.  ],\n",
       "       [ 5.75, 17.  ,  1.  ],\n",
       "       [ 8.93, 18.  ,  1.  ],\n",
       "       [ 5.39, 19.  ,  1.  ],\n",
       "       [ 5.65, 20.  ,  0.  ],\n",
       "       [ 5.49, 15.  ,  1.  ],\n",
       "       [ 7.26, 16.  ,  1.  ],\n",
       "       [ 6.35, 17.  ,  0.  ],\n",
       "       [ 7.72, 18.  ,  1.  ],\n",
       "       [ 8.88, 19.  ,  0.  ],\n",
       "       [ 5.45, 20.  ,  1.  ],\n",
       "       [ 7.86, 15.  ,  1.  ],\n",
       "       [ 8.26, 16.  ,  0.  ],\n",
       "       [ 5.07, 17.  ,  1.  ],\n",
       "       [ 8.25, 18.  ,  0.  ],\n",
       "       [ 5.37, 19.  ,  1.  ],\n",
       "       [ 5.11, 20.  ,  1.  ],\n",
       "       [ 6.35, 15.  ,  0.  ],\n",
       "       [ 7.41, 16.  ,  1.  ],\n",
       "       [ 7.31, 17.  ,  0.  ],\n",
       "       [ 6.04, 18.  ,  1.  ],\n",
       "       [ 5.11, 19.  ,  1.  ],\n",
       "       [ 6.56, 20.  ,  0.  ],\n",
       "       [ 5.09, 15.  ,  1.  ],\n",
       "       [ 5.88, 16.  ,  0.  ],\n",
       "       [ 8.34, 17.  ,  1.  ],\n",
       "       [ 7.94, 18.  ,  0.  ],\n",
       "       [ 6.66, 19.  ,  1.  ],\n",
       "       [ 6.01, 20.  ,  1.  ],\n",
       "       [ 6.88, 15.  ,  0.  ],\n",
       "       [ 5.63, 16.  ,  1.  ],\n",
       "       [ 5.88, 17.  ,  0.  ],\n",
       "       [ 8.05, 18.  ,  1.  ],\n",
       "       [ 5.33, 19.  ,  0.  ],\n",
       "       [ 8.79, 20.  ,  0.  ],\n",
       "       [ 7.52, 15.  ,  1.  ],\n",
       "       [ 8.2 , 16.  ,  0.  ],\n",
       "       [ 5.44, 17.  ,  1.  ],\n",
       "       [ 7.9 , 18.  ,  0.  ],\n",
       "       [ 7.69, 19.  ,  1.  ],\n",
       "       [ 6.09, 20.  ,  0.  ],\n",
       "       [  nan, 15.  ,  1.  ],\n",
       "       [ 5.2 , 16.  ,  1.  ],\n",
       "       [ 8.88, 17.  ,  0.  ],\n",
       "       [ 8.07, 18.  ,  1.  ],\n",
       "       [ 6.24, 19.  ,  1.  ],\n",
       "       [ 7.95, 20.  ,  0.  ],\n",
       "       [ 8.26, 15.  ,  0.  ],\n",
       "       [ 7.31, 16.  ,  1.  ],\n",
       "       [ 7.23, 17.  ,  1.  ],\n",
       "       [ 6.46, 18.  ,  1.  ],\n",
       "       [ 5.34, 19.  ,  1.  ],\n",
       "       [ 5.72, 20.  ,  1.  ],\n",
       "       [ 5.84, 15.  ,  0.  ],\n",
       "       [ 5.02, 16.  ,  1.  ],\n",
       "       [ 7.98, 17.  ,  0.  ],\n",
       "       [ 6.37, 18.  ,  1.  ],\n",
       "       [ 6.92, 19.  ,  0.  ],\n",
       "       [ 7.95, 20.  ,  1.  ],\n",
       "       [ 7.12, 15.  ,  0.  ],\n",
       "       [ 5.79, 16.  ,  1.  ],\n",
       "       [ 5.4 , 17.  ,  0.  ],\n",
       "       [ 8.83, 18.  ,  1.  ],\n",
       "       [ 5.69, 19.  ,  0.  ],\n",
       "       [ 6.6 , 20.  ,  1.  ],\n",
       "       [ 6.52, 15.  ,  0.  ],\n",
       "       [ 8.31, 16.  ,  0.  ],\n",
       "       [  nan, 17.  ,  1.  ],\n",
       "       [ 7.62, 18.  ,  0.  ],\n",
       "       [ 8.69, 19.  ,  1.  ],\n",
       "       [ 8.75, 20.  ,  0.  ],\n",
       "       [ 6.46, 15.  ,  1.  ],\n",
       "       [ 7.14, 16.  ,  1.  ],\n",
       "       [ 6.38, 17.  ,  0.  ],\n",
       "       [ 6.33, 18.  ,  1.  ],\n",
       "       [ 5.64, 19.  ,  0.  ],\n",
       "       [ 5.26, 20.  ,  1.  ],\n",
       "       [ 6.83, 15.  ,  1.  ],\n",
       "       [ 5.76, 16.  ,  0.  ],\n",
       "       [ 6.51, 17.  ,  1.  ],\n",
       "       [ 8.33, 18.  ,  0.  ],\n",
       "       [ 8.16, 19.  ,  1.  ],\n",
       "       [ 5.14, 20.  ,  0.  ],\n",
       "       [ 8.71, 15.  ,  0.  ],\n",
       "       [ 8.6 , 16.  ,  1.  ],\n",
       "       [ 8.6 , 17.  ,  0.  ],\n",
       "       [ 7.43, 18.  ,  1.  ],\n",
       "       [ 7.81, 19.  ,  1.  ],\n",
       "       [ 6.51, 20.  ,  0.  ],\n",
       "       [ 8.11, 15.  ,  1.  ],\n",
       "       [ 8.95, 16.  ,  0.  ],\n",
       "       [ 7.99, 17.  ,  1.  ],\n",
       "       [ 5.92, 18.  ,  0.  ],\n",
       "       [ 8.3 , 19.  ,  1.  ],\n",
       "       [ 8.97, 20.  ,  0.  ],\n",
       "       [ 5.39, 15.  ,  0.  ],\n",
       "       [ 6.77, 16.  ,  0.  ],\n",
       "       [ 8.08, 17.  ,  1.  ],\n",
       "       [ 5.24, 18.  ,  0.  ],\n",
       "       [ 6.93, 19.  ,  1.  ],\n",
       "       [ 5.14, 20.  ,  0.  ],\n",
       "       [ 8.39, 15.  ,  1.  ],\n",
       "       [ 6.18, 16.  ,  0.  ],\n",
       "       [ 7.53, 17.  ,  1.  ],\n",
       "       [ 7.86, 18.  ,  0.  ],\n",
       "       [ 7.7 , 19.  ,  1.  ],\n",
       "       [ 7.3 , 20.  ,  0.  ],\n",
       "       [ 7.79, 15.  ,  1.  ],\n",
       "       [ 6.75, 16.  ,  0.  ],\n",
       "       [ 7.87, 17.  ,  1.  ],\n",
       "       [ 5.38, 18.  ,  0.  ],\n",
       "       [ 7.8 , 19.  ,  1.  ],\n",
       "       [ 5.07, 20.  ,  0.  ],\n",
       "       [ 7.95, 15.  ,  1.  ],\n",
       "       [ 8.35, 16.  ,  0.  ],\n",
       "       [ 5.19, 17.  ,  0.  ],\n",
       "       [ 7.19, 18.  ,  0.  ],\n",
       "       [ 7.35, 19.  ,  1.  ],\n",
       "       [ 5.22, 20.  ,  1.  ],\n",
       "       [ 5.39, 15.  ,  1.  ],\n",
       "       [ 5.39, 16.  ,  1.  ],\n",
       "       [ 8.93, 17.  ,  1.  ],\n",
       "       [ 5.79, 18.  ,  0.  ],\n",
       "       [ 8.42, 19.  ,  1.  ],\n",
       "       [ 7.26, 20.  ,  0.  ],\n",
       "       [ 6.97, 15.  ,  1.  ],\n",
       "       [ 5.55, 16.  ,  1.  ],\n",
       "       [ 8.66, 17.  ,  0.  ],\n",
       "       [ 8.61, 18.  ,  1.  ],\n",
       "       [ 5.22, 19.  ,  1.  ],\n",
       "       [ 8.05, 20.  ,  0.  ],\n",
       "       [ 8.87, 15.  ,  1.  ],\n",
       "       [ 5.54, 16.  ,  0.  ],\n",
       "       [  nan, 17.  ,  0.  ],\n",
       "       [ 7.26, 18.  ,  1.  ],\n",
       "       [ 5.79, 19.  ,  0.  ],\n",
       "       [ 5.22, 20.  ,  0.  ],\n",
       "       [ 8.71, 15.  ,  1.  ],\n",
       "       [ 7.55, 16.  ,  1.  ],\n",
       "       [ 6.35, 17.  ,  1.  ],\n",
       "       [ 7.53, 18.  ,  0.  ],\n",
       "       [ 8.56, 19.  ,  1.  ],\n",
       "       [ 8.94, 20.  ,  1.  ],\n",
       "       [ 6.6 , 15.  ,  1.  ],\n",
       "       [ 8.35, 16.  ,  1.  ],\n",
       "       [ 4.15, 15.  ,  0.  ]])"
      ]
     },
     "execution_count": 102,
     "metadata": {},
     "output_type": "execute_result"
    }
   ],
   "source": [
    "print(X.shape)\n",
    "X"
   ]
  },
  {
   "cell_type": "code",
   "execution_count": 103,
   "id": "6c17fd86",
   "metadata": {},
   "outputs": [
    {
     "data": {
      "text/plain": [
       "Index(['hours'], dtype='object')"
      ]
     },
     "execution_count": 103,
     "metadata": {},
     "output_type": "execute_result"
    }
   ],
   "source": [
    "data.columns[data.isna().any()]"
   ]
  },
  {
   "cell_type": "code",
   "execution_count": 104,
   "id": "0ab04437",
   "metadata": {},
   "outputs": [],
   "source": [
    "data.hours = data.hours.fillna(data.hours.mean())"
   ]
  },
  {
   "cell_type": "code",
   "execution_count": 105,
   "id": "a07df884",
   "metadata": {},
   "outputs": [
    {
     "name": "stdout",
     "output_type": "stream",
     "text": [
      "(201, 3)\n"
     ]
    },
    {
     "data": {
      "text/plain": [
       "array([[ 6.83      , 15.        ,  1.        ],\n",
       "       [ 6.56      , 16.        ,  0.        ],\n",
       "       [ 6.98142857, 17.        ,  1.        ],\n",
       "       [ 5.67      , 18.        ,  0.        ],\n",
       "       [ 8.67      , 19.        ,  1.        ],\n",
       "       [ 7.55      , 20.        ,  0.        ],\n",
       "       [ 6.67      , 15.        ,  0.        ],\n",
       "       [ 8.99      , 16.        ,  0.        ],\n",
       "       [ 5.19      , 17.        ,  1.        ],\n",
       "       [ 6.75      , 18.        ,  0.        ],\n",
       "       [ 6.59      , 19.        ,  0.        ],\n",
       "       [ 8.56      , 20.        ,  1.        ],\n",
       "       [ 7.75      , 15.        ,  0.        ],\n",
       "       [ 7.9       , 16.        ,  1.        ],\n",
       "       [ 8.19      , 17.        ,  0.        ],\n",
       "       [ 6.55      , 18.        ,  1.        ],\n",
       "       [ 6.36      , 19.        ,  0.        ],\n",
       "       [ 8.44      , 20.        ,  1.        ],\n",
       "       [ 8.41      , 15.        ,  0.        ],\n",
       "       [ 7.67      , 16.        ,  1.        ],\n",
       "       [ 7.42      , 17.        ,  1.        ],\n",
       "       [ 8.16      , 18.        ,  1.        ],\n",
       "       [ 5.05      , 19.        ,  1.        ],\n",
       "       [ 5.85      , 20.        ,  1.        ],\n",
       "       [ 5.45      , 15.        ,  0.        ],\n",
       "       [ 7.96      , 16.        ,  0.        ],\n",
       "       [ 6.51      , 17.        ,  0.        ],\n",
       "       [ 6.73      , 18.        ,  0.        ],\n",
       "       [ 5.94      , 19.        ,  1.        ],\n",
       "       [ 7.48      , 20.        ,  0.        ],\n",
       "       [ 8.13      , 15.        ,  1.        ],\n",
       "       [ 6.98142857, 16.        ,  1.        ],\n",
       "       [ 5.4       , 17.        ,  1.        ],\n",
       "       [ 8.78      , 18.        ,  0.        ],\n",
       "       [ 8.72      , 19.        ,  1.        ],\n",
       "       [ 7.1       , 20.        ,  0.        ],\n",
       "       [ 7.86      , 15.        ,  1.        ],\n",
       "       [ 7.19      , 16.        ,  0.        ],\n",
       "       [ 5.62      , 17.        ,  1.        ],\n",
       "       [ 7.88      , 18.        ,  0.        ],\n",
       "       [ 5.28      , 19.        ,  1.        ],\n",
       "       [ 8.92      , 20.        ,  1.        ],\n",
       "       [ 5.46      , 15.        ,  0.        ],\n",
       "       [ 8.3       , 16.        ,  1.        ],\n",
       "       [ 8.09      , 17.        ,  0.        ],\n",
       "       [ 6.18      , 18.        ,  1.        ],\n",
       "       [ 7.01      , 19.        ,  1.        ],\n",
       "       [ 5.01      , 20.        ,  0.        ],\n",
       "       [ 5.54      , 15.        ,  1.        ],\n",
       "       [ 5.09      , 16.        ,  1.        ],\n",
       "       [ 5.09      , 17.        ,  0.        ],\n",
       "       [ 7.31      , 18.        ,  1.        ],\n",
       "       [ 8.71      , 19.        ,  0.        ],\n",
       "       [ 5.52      , 20.        ,  1.        ],\n",
       "       [ 8.76      , 15.        ,  0.        ],\n",
       "       [ 8.69      , 16.        ,  1.        ],\n",
       "       [ 5.75      , 17.        ,  1.        ],\n",
       "       [ 8.93      , 18.        ,  1.        ],\n",
       "       [ 5.39      , 19.        ,  1.        ],\n",
       "       [ 5.65      , 20.        ,  0.        ],\n",
       "       [ 5.49      , 15.        ,  1.        ],\n",
       "       [ 7.26      , 16.        ,  1.        ],\n",
       "       [ 6.35      , 17.        ,  0.        ],\n",
       "       [ 7.72      , 18.        ,  1.        ],\n",
       "       [ 8.88      , 19.        ,  0.        ],\n",
       "       [ 5.45      , 20.        ,  1.        ],\n",
       "       [ 7.86      , 15.        ,  1.        ],\n",
       "       [ 8.26      , 16.        ,  0.        ],\n",
       "       [ 5.07      , 17.        ,  1.        ],\n",
       "       [ 8.25      , 18.        ,  0.        ],\n",
       "       [ 5.37      , 19.        ,  1.        ],\n",
       "       [ 5.11      , 20.        ,  1.        ],\n",
       "       [ 6.35      , 15.        ,  0.        ],\n",
       "       [ 7.41      , 16.        ,  1.        ],\n",
       "       [ 7.31      , 17.        ,  0.        ],\n",
       "       [ 6.04      , 18.        ,  1.        ],\n",
       "       [ 5.11      , 19.        ,  1.        ],\n",
       "       [ 6.56      , 20.        ,  0.        ],\n",
       "       [ 5.09      , 15.        ,  1.        ],\n",
       "       [ 5.88      , 16.        ,  0.        ],\n",
       "       [ 8.34      , 17.        ,  1.        ],\n",
       "       [ 7.94      , 18.        ,  0.        ],\n",
       "       [ 6.66      , 19.        ,  1.        ],\n",
       "       [ 6.01      , 20.        ,  1.        ],\n",
       "       [ 6.88      , 15.        ,  0.        ],\n",
       "       [ 5.63      , 16.        ,  1.        ],\n",
       "       [ 5.88      , 17.        ,  0.        ],\n",
       "       [ 8.05      , 18.        ,  1.        ],\n",
       "       [ 5.33      , 19.        ,  0.        ],\n",
       "       [ 8.79      , 20.        ,  0.        ],\n",
       "       [ 7.52      , 15.        ,  1.        ],\n",
       "       [ 8.2       , 16.        ,  0.        ],\n",
       "       [ 5.44      , 17.        ,  1.        ],\n",
       "       [ 7.9       , 18.        ,  0.        ],\n",
       "       [ 7.69      , 19.        ,  1.        ],\n",
       "       [ 6.09      , 20.        ,  0.        ],\n",
       "       [ 6.98142857, 15.        ,  1.        ],\n",
       "       [ 5.2       , 16.        ,  1.        ],\n",
       "       [ 8.88      , 17.        ,  0.        ],\n",
       "       [ 8.07      , 18.        ,  1.        ],\n",
       "       [ 6.24      , 19.        ,  1.        ],\n",
       "       [ 7.95      , 20.        ,  0.        ],\n",
       "       [ 8.26      , 15.        ,  0.        ],\n",
       "       [ 7.31      , 16.        ,  1.        ],\n",
       "       [ 7.23      , 17.        ,  1.        ],\n",
       "       [ 6.46      , 18.        ,  1.        ],\n",
       "       [ 5.34      , 19.        ,  1.        ],\n",
       "       [ 5.72      , 20.        ,  1.        ],\n",
       "       [ 5.84      , 15.        ,  0.        ],\n",
       "       [ 5.02      , 16.        ,  1.        ],\n",
       "       [ 7.98      , 17.        ,  0.        ],\n",
       "       [ 6.37      , 18.        ,  1.        ],\n",
       "       [ 6.92      , 19.        ,  0.        ],\n",
       "       [ 7.95      , 20.        ,  1.        ],\n",
       "       [ 7.12      , 15.        ,  0.        ],\n",
       "       [ 5.79      , 16.        ,  1.        ],\n",
       "       [ 5.4       , 17.        ,  0.        ],\n",
       "       [ 8.83      , 18.        ,  1.        ],\n",
       "       [ 5.69      , 19.        ,  0.        ],\n",
       "       [ 6.6       , 20.        ,  1.        ],\n",
       "       [ 6.52      , 15.        ,  0.        ],\n",
       "       [ 8.31      , 16.        ,  0.        ],\n",
       "       [ 6.98142857, 17.        ,  1.        ],\n",
       "       [ 7.62      , 18.        ,  0.        ],\n",
       "       [ 8.69      , 19.        ,  1.        ],\n",
       "       [ 8.75      , 20.        ,  0.        ],\n",
       "       [ 6.46      , 15.        ,  1.        ],\n",
       "       [ 7.14      , 16.        ,  1.        ],\n",
       "       [ 6.38      , 17.        ,  0.        ],\n",
       "       [ 6.33      , 18.        ,  1.        ],\n",
       "       [ 5.64      , 19.        ,  0.        ],\n",
       "       [ 5.26      , 20.        ,  1.        ],\n",
       "       [ 6.83      , 15.        ,  1.        ],\n",
       "       [ 5.76      , 16.        ,  0.        ],\n",
       "       [ 6.51      , 17.        ,  1.        ],\n",
       "       [ 8.33      , 18.        ,  0.        ],\n",
       "       [ 8.16      , 19.        ,  1.        ],\n",
       "       [ 5.14      , 20.        ,  0.        ],\n",
       "       [ 8.71      , 15.        ,  0.        ],\n",
       "       [ 8.6       , 16.        ,  1.        ],\n",
       "       [ 8.6       , 17.        ,  0.        ],\n",
       "       [ 7.43      , 18.        ,  1.        ],\n",
       "       [ 7.81      , 19.        ,  1.        ],\n",
       "       [ 6.51      , 20.        ,  0.        ],\n",
       "       [ 8.11      , 15.        ,  1.        ],\n",
       "       [ 8.95      , 16.        ,  0.        ],\n",
       "       [ 7.99      , 17.        ,  1.        ],\n",
       "       [ 5.92      , 18.        ,  0.        ],\n",
       "       [ 8.3       , 19.        ,  1.        ],\n",
       "       [ 8.97      , 20.        ,  0.        ],\n",
       "       [ 5.39      , 15.        ,  0.        ],\n",
       "       [ 6.77      , 16.        ,  0.        ],\n",
       "       [ 8.08      , 17.        ,  1.        ],\n",
       "       [ 5.24      , 18.        ,  0.        ],\n",
       "       [ 6.93      , 19.        ,  1.        ],\n",
       "       [ 5.14      , 20.        ,  0.        ],\n",
       "       [ 8.39      , 15.        ,  1.        ],\n",
       "       [ 6.18      , 16.        ,  0.        ],\n",
       "       [ 7.53      , 17.        ,  1.        ],\n",
       "       [ 7.86      , 18.        ,  0.        ],\n",
       "       [ 7.7       , 19.        ,  1.        ],\n",
       "       [ 7.3       , 20.        ,  0.        ],\n",
       "       [ 7.79      , 15.        ,  1.        ],\n",
       "       [ 6.75      , 16.        ,  0.        ],\n",
       "       [ 7.87      , 17.        ,  1.        ],\n",
       "       [ 5.38      , 18.        ,  0.        ],\n",
       "       [ 7.8       , 19.        ,  1.        ],\n",
       "       [ 5.07      , 20.        ,  0.        ],\n",
       "       [ 7.95      , 15.        ,  1.        ],\n",
       "       [ 8.35      , 16.        ,  0.        ],\n",
       "       [ 5.19      , 17.        ,  0.        ],\n",
       "       [ 7.19      , 18.        ,  0.        ],\n",
       "       [ 7.35      , 19.        ,  1.        ],\n",
       "       [ 5.22      , 20.        ,  1.        ],\n",
       "       [ 5.39      , 15.        ,  1.        ],\n",
       "       [ 5.39      , 16.        ,  1.        ],\n",
       "       [ 8.93      , 17.        ,  1.        ],\n",
       "       [ 5.79      , 18.        ,  0.        ],\n",
       "       [ 8.42      , 19.        ,  1.        ],\n",
       "       [ 7.26      , 20.        ,  0.        ],\n",
       "       [ 6.97      , 15.        ,  1.        ],\n",
       "       [ 5.55      , 16.        ,  1.        ],\n",
       "       [ 8.66      , 17.        ,  0.        ],\n",
       "       [ 8.61      , 18.        ,  1.        ],\n",
       "       [ 5.22      , 19.        ,  1.        ],\n",
       "       [ 8.05      , 20.        ,  0.        ],\n",
       "       [ 8.87      , 15.        ,  1.        ],\n",
       "       [ 5.54      , 16.        ,  0.        ],\n",
       "       [ 6.98142857, 17.        ,  0.        ],\n",
       "       [ 7.26      , 18.        ,  1.        ],\n",
       "       [ 5.79      , 19.        ,  0.        ],\n",
       "       [ 5.22      , 20.        ,  0.        ],\n",
       "       [ 8.71      , 15.        ,  1.        ],\n",
       "       [ 7.55      , 16.        ,  1.        ],\n",
       "       [ 6.35      , 17.        ,  1.        ],\n",
       "       [ 7.53      , 18.        ,  0.        ],\n",
       "       [ 8.56      , 19.        ,  1.        ],\n",
       "       [ 8.94      , 20.        ,  1.        ],\n",
       "       [ 6.6       , 15.        ,  1.        ],\n",
       "       [ 8.35      , 16.        ,  1.        ],\n",
       "       [ 4.15      , 15.        ,  0.        ]])"
      ]
     },
     "execution_count": 105,
     "metadata": {},
     "output_type": "execute_result"
    }
   ],
   "source": [
    "X = data.iloc[:,:-1].values\n",
    "print(X.shape)\n",
    "X"
   ]
  },
  {
   "cell_type": "code",
   "execution_count": 106,
   "id": "087d5e5b",
   "metadata": {},
   "outputs": [
    {
     "data": {
      "text/plain": [
       "array([[ 6.83      , 15.        ,  1.        ],\n",
       "       [ 6.56      , 16.        ,  0.        ],\n",
       "       [ 6.98142857, 17.        ,  1.        ],\n",
       "       [ 5.67      , 18.        ,  0.        ],\n",
       "       [ 8.67      , 19.        ,  1.        ],\n",
       "       [ 7.55      , 20.        ,  0.        ],\n",
       "       [ 6.67      , 15.        ,  0.        ],\n",
       "       [ 8.99      , 16.        ,  0.        ],\n",
       "       [ 5.19      , 17.        ,  1.        ],\n",
       "       [ 6.75      , 18.        ,  0.        ],\n",
       "       [ 6.59      , 19.        ,  0.        ],\n",
       "       [ 8.56      , 20.        ,  1.        ],\n",
       "       [ 7.75      , 15.        ,  0.        ],\n",
       "       [ 7.9       , 16.        ,  1.        ],\n",
       "       [ 8.19      , 17.        ,  0.        ],\n",
       "       [ 6.55      , 18.        ,  1.        ],\n",
       "       [ 6.36      , 19.        ,  0.        ],\n",
       "       [ 8.44      , 20.        ,  1.        ],\n",
       "       [ 8.41      , 15.        ,  0.        ],\n",
       "       [ 7.67      , 16.        ,  1.        ],\n",
       "       [ 7.42      , 17.        ,  1.        ],\n",
       "       [ 8.16      , 18.        ,  1.        ],\n",
       "       [ 5.05      , 19.        ,  1.        ],\n",
       "       [ 5.85      , 20.        ,  1.        ],\n",
       "       [ 5.45      , 15.        ,  0.        ],\n",
       "       [ 7.96      , 16.        ,  0.        ],\n",
       "       [ 6.51      , 17.        ,  0.        ],\n",
       "       [ 6.73      , 18.        ,  0.        ],\n",
       "       [ 5.94      , 19.        ,  1.        ],\n",
       "       [ 7.48      , 20.        ,  0.        ],\n",
       "       [ 8.13      , 15.        ,  1.        ],\n",
       "       [ 6.98142857, 16.        ,  1.        ],\n",
       "       [ 5.4       , 17.        ,  1.        ],\n",
       "       [ 8.78      , 18.        ,  0.        ],\n",
       "       [ 8.72      , 19.        ,  1.        ],\n",
       "       [ 7.1       , 20.        ,  0.        ],\n",
       "       [ 7.86      , 15.        ,  1.        ],\n",
       "       [ 7.19      , 16.        ,  0.        ],\n",
       "       [ 5.62      , 17.        ,  1.        ],\n",
       "       [ 7.88      , 18.        ,  0.        ],\n",
       "       [ 5.28      , 19.        ,  1.        ],\n",
       "       [ 8.92      , 20.        ,  1.        ],\n",
       "       [ 5.46      , 15.        ,  0.        ],\n",
       "       [ 8.3       , 16.        ,  1.        ],\n",
       "       [ 8.09      , 17.        ,  0.        ],\n",
       "       [ 6.18      , 18.        ,  1.        ],\n",
       "       [ 7.01      , 19.        ,  1.        ],\n",
       "       [ 5.01      , 20.        ,  0.        ],\n",
       "       [ 5.54      , 15.        ,  1.        ],\n",
       "       [ 5.09      , 16.        ,  1.        ],\n",
       "       [ 5.09      , 17.        ,  0.        ],\n",
       "       [ 7.31      , 18.        ,  1.        ],\n",
       "       [ 8.71      , 19.        ,  0.        ],\n",
       "       [ 5.52      , 20.        ,  1.        ],\n",
       "       [ 8.76      , 15.        ,  0.        ],\n",
       "       [ 8.69      , 16.        ,  1.        ],\n",
       "       [ 5.75      , 17.        ,  1.        ],\n",
       "       [ 8.93      , 18.        ,  1.        ],\n",
       "       [ 5.39      , 19.        ,  1.        ],\n",
       "       [ 5.65      , 20.        ,  0.        ],\n",
       "       [ 5.49      , 15.        ,  1.        ],\n",
       "       [ 7.26      , 16.        ,  1.        ],\n",
       "       [ 6.35      , 17.        ,  0.        ],\n",
       "       [ 7.72      , 18.        ,  1.        ],\n",
       "       [ 8.88      , 19.        ,  0.        ],\n",
       "       [ 5.45      , 20.        ,  1.        ],\n",
       "       [ 7.86      , 15.        ,  1.        ],\n",
       "       [ 8.26      , 16.        ,  0.        ],\n",
       "       [ 5.07      , 17.        ,  1.        ],\n",
       "       [ 8.25      , 18.        ,  0.        ],\n",
       "       [ 5.37      , 19.        ,  1.        ],\n",
       "       [ 5.11      , 20.        ,  1.        ],\n",
       "       [ 6.35      , 15.        ,  0.        ],\n",
       "       [ 7.41      , 16.        ,  1.        ],\n",
       "       [ 7.31      , 17.        ,  0.        ],\n",
       "       [ 6.04      , 18.        ,  1.        ],\n",
       "       [ 5.11      , 19.        ,  1.        ],\n",
       "       [ 6.56      , 20.        ,  0.        ],\n",
       "       [ 5.09      , 15.        ,  1.        ],\n",
       "       [ 5.88      , 16.        ,  0.        ],\n",
       "       [ 8.34      , 17.        ,  1.        ],\n",
       "       [ 7.94      , 18.        ,  0.        ],\n",
       "       [ 6.66      , 19.        ,  1.        ],\n",
       "       [ 6.01      , 20.        ,  1.        ],\n",
       "       [ 6.88      , 15.        ,  0.        ],\n",
       "       [ 5.63      , 16.        ,  1.        ],\n",
       "       [ 5.88      , 17.        ,  0.        ],\n",
       "       [ 8.05      , 18.        ,  1.        ],\n",
       "       [ 5.33      , 19.        ,  0.        ],\n",
       "       [ 8.79      , 20.        ,  0.        ],\n",
       "       [ 7.52      , 15.        ,  1.        ],\n",
       "       [ 8.2       , 16.        ,  0.        ],\n",
       "       [ 5.44      , 17.        ,  1.        ],\n",
       "       [ 7.9       , 18.        ,  0.        ],\n",
       "       [ 7.69      , 19.        ,  1.        ],\n",
       "       [ 6.09      , 20.        ,  0.        ],\n",
       "       [ 6.98142857, 15.        ,  1.        ],\n",
       "       [ 5.2       , 16.        ,  1.        ],\n",
       "       [ 8.88      , 17.        ,  0.        ],\n",
       "       [ 8.07      , 18.        ,  1.        ],\n",
       "       [ 6.24      , 19.        ,  1.        ],\n",
       "       [ 7.95      , 20.        ,  0.        ],\n",
       "       [ 8.26      , 15.        ,  0.        ],\n",
       "       [ 7.31      , 16.        ,  1.        ],\n",
       "       [ 7.23      , 17.        ,  1.        ],\n",
       "       [ 6.46      , 18.        ,  1.        ],\n",
       "       [ 5.34      , 19.        ,  1.        ],\n",
       "       [ 5.72      , 20.        ,  1.        ],\n",
       "       [ 5.84      , 15.        ,  0.        ],\n",
       "       [ 5.02      , 16.        ,  1.        ],\n",
       "       [ 7.98      , 17.        ,  0.        ],\n",
       "       [ 6.37      , 18.        ,  1.        ],\n",
       "       [ 6.92      , 19.        ,  0.        ],\n",
       "       [ 7.95      , 20.        ,  1.        ],\n",
       "       [ 7.12      , 15.        ,  0.        ],\n",
       "       [ 5.79      , 16.        ,  1.        ],\n",
       "       [ 5.4       , 17.        ,  0.        ],\n",
       "       [ 8.83      , 18.        ,  1.        ],\n",
       "       [ 5.69      , 19.        ,  0.        ],\n",
       "       [ 6.6       , 20.        ,  1.        ],\n",
       "       [ 6.52      , 15.        ,  0.        ],\n",
       "       [ 8.31      , 16.        ,  0.        ],\n",
       "       [ 6.98142857, 17.        ,  1.        ],\n",
       "       [ 7.62      , 18.        ,  0.        ],\n",
       "       [ 8.69      , 19.        ,  1.        ],\n",
       "       [ 8.75      , 20.        ,  0.        ],\n",
       "       [ 6.46      , 15.        ,  1.        ],\n",
       "       [ 7.14      , 16.        ,  1.        ],\n",
       "       [ 6.38      , 17.        ,  0.        ],\n",
       "       [ 6.33      , 18.        ,  1.        ],\n",
       "       [ 5.64      , 19.        ,  0.        ],\n",
       "       [ 5.26      , 20.        ,  1.        ],\n",
       "       [ 6.83      , 15.        ,  1.        ],\n",
       "       [ 5.76      , 16.        ,  0.        ],\n",
       "       [ 6.51      , 17.        ,  1.        ],\n",
       "       [ 8.33      , 18.        ,  0.        ],\n",
       "       [ 8.16      , 19.        ,  1.        ],\n",
       "       [ 5.14      , 20.        ,  0.        ],\n",
       "       [ 8.71      , 15.        ,  0.        ],\n",
       "       [ 8.6       , 16.        ,  1.        ],\n",
       "       [ 8.6       , 17.        ,  0.        ],\n",
       "       [ 7.43      , 18.        ,  1.        ],\n",
       "       [ 7.81      , 19.        ,  1.        ],\n",
       "       [ 6.51      , 20.        ,  0.        ],\n",
       "       [ 8.11      , 15.        ,  1.        ],\n",
       "       [ 8.95      , 16.        ,  0.        ],\n",
       "       [ 7.99      , 17.        ,  1.        ],\n",
       "       [ 5.92      , 18.        ,  0.        ],\n",
       "       [ 8.3       , 19.        ,  1.        ],\n",
       "       [ 8.97      , 20.        ,  0.        ],\n",
       "       [ 5.39      , 15.        ,  0.        ],\n",
       "       [ 6.77      , 16.        ,  0.        ],\n",
       "       [ 8.08      , 17.        ,  1.        ],\n",
       "       [ 5.24      , 18.        ,  0.        ],\n",
       "       [ 6.93      , 19.        ,  1.        ],\n",
       "       [ 5.14      , 20.        ,  0.        ],\n",
       "       [ 8.39      , 15.        ,  1.        ],\n",
       "       [ 6.18      , 16.        ,  0.        ],\n",
       "       [ 7.53      , 17.        ,  1.        ],\n",
       "       [ 7.86      , 18.        ,  0.        ],\n",
       "       [ 7.7       , 19.        ,  1.        ],\n",
       "       [ 7.3       , 20.        ,  0.        ],\n",
       "       [ 7.79      , 15.        ,  1.        ],\n",
       "       [ 6.75      , 16.        ,  0.        ],\n",
       "       [ 7.87      , 17.        ,  1.        ],\n",
       "       [ 5.38      , 18.        ,  0.        ],\n",
       "       [ 7.8       , 19.        ,  1.        ],\n",
       "       [ 5.07      , 20.        ,  0.        ],\n",
       "       [ 7.95      , 15.        ,  1.        ],\n",
       "       [ 8.35      , 16.        ,  0.        ],\n",
       "       [ 5.19      , 17.        ,  0.        ],\n",
       "       [ 7.19      , 18.        ,  0.        ],\n",
       "       [ 7.35      , 19.        ,  1.        ],\n",
       "       [ 5.22      , 20.        ,  1.        ],\n",
       "       [ 5.39      , 15.        ,  1.        ],\n",
       "       [ 5.39      , 16.        ,  1.        ],\n",
       "       [ 8.93      , 17.        ,  1.        ],\n",
       "       [ 5.79      , 18.        ,  0.        ],\n",
       "       [ 8.42      , 19.        ,  1.        ],\n",
       "       [ 7.26      , 20.        ,  0.        ],\n",
       "       [ 6.97      , 15.        ,  1.        ],\n",
       "       [ 5.55      , 16.        ,  1.        ],\n",
       "       [ 8.66      , 17.        ,  0.        ],\n",
       "       [ 8.61      , 18.        ,  1.        ],\n",
       "       [ 5.22      , 19.        ,  1.        ],\n",
       "       [ 8.05      , 20.        ,  0.        ],\n",
       "       [ 8.87      , 15.        ,  1.        ],\n",
       "       [ 5.54      , 16.        ,  0.        ],\n",
       "       [ 6.98142857, 17.        ,  0.        ],\n",
       "       [ 7.26      , 18.        ,  1.        ],\n",
       "       [ 5.79      , 19.        ,  0.        ],\n",
       "       [ 5.22      , 20.        ,  0.        ],\n",
       "       [ 8.71      , 15.        ,  1.        ],\n",
       "       [ 7.55      , 16.        ,  1.        ],\n",
       "       [ 6.35      , 17.        ,  1.        ],\n",
       "       [ 7.53      , 18.        ,  0.        ],\n",
       "       [ 8.56      , 19.        ,  1.        ],\n",
       "       [ 8.94      , 20.        ,  1.        ],\n",
       "       [ 6.6       , 15.        ,  1.        ],\n",
       "       [ 8.35      , 16.        ,  1.        ],\n",
       "       [ 4.15      , 15.        ,  0.        ]])"
      ]
     },
     "execution_count": 106,
     "metadata": {},
     "output_type": "execute_result"
    }
   ],
   "source": [
    "Y = data.iloc[:,:-1].values\n",
    "Y"
   ]
  },
  {
   "cell_type": "code",
   "execution_count": 107,
   "id": "bb4c8a97",
   "metadata": {},
   "outputs": [
    {
     "data": {
      "text/plain": [
       "LinearRegression()"
      ]
     },
     "execution_count": 107,
     "metadata": {},
     "output_type": "execute_result"
    }
   ],
   "source": [
    "model = LinearRegression()\n",
    "model.fit(X,Y)"
   ]
  },
  {
   "cell_type": "code",
   "execution_count": 108,
   "id": "7d4ecc15",
   "metadata": {},
   "outputs": [
    {
     "name": "stdout",
     "output_type": "stream",
     "text": [
      "[[10. 12.  1.]]\n"
     ]
    }
   ],
   "source": [
    "a = [[10,12,1]]\n",
    "PredictedmodelResult = model.predict(a)\n",
    "print(PredictedmodelResult)"
   ]
  },
  {
   "cell_type": "code",
   "execution_count": 109,
   "id": "b663e7fa",
   "metadata": {},
   "outputs": [
    {
     "data": {
      "text/plain": [
       "<matplotlib.collections.PathCollection at 0x21dc528cb50>"
      ]
     },
     "execution_count": 109,
     "metadata": {},
     "output_type": "execute_result"
    },
    {
     "data": {
      "image/png": "[encoded data removed]",
      "text/plain": [
       "<Figure size 432x288 with 1 Axes>"
      ]
     },
     "metadata": {
      "needs_background": "light"
     },
     "output_type": "display_data"
    }
   ],
   "source": [
    "plt.xlabel('hours')\n",
    "plt.ylabel('marks')\n",
    "plt.scatter(data.hours,data.marks,color='red',marker='*')\n"
   ]
  },
  {
   "cell_type": "code",
   "execution_count": 110,
   "id": "1357ee63",
   "metadata": {},
   "outputs": [
    {
     "data": {
      "text/plain": [
       "<matplotlib.collections.PathCollection at 0x21dc525cf70>"
      ]
     },
     "execution_count": 110,
     "metadata": {},
     "output_type": "execute_result"
    },
    {
     "data": {
      "image/png": "[encoded data removed]",
      "text/plain": [
       "<Figure size 432x288 with 1 Axes>"
      ]
     },
     "metadata": {
      "needs_background": "light"
     },
     "output_type": "display_data"
    }
   ],
   "source": [
    "plt.xlabel('age')\n",
    "plt.ylabel('marks')\n",
    "plt.scatter(data.age,data.marks,color='red',marker='*')"
   ]
  },
  {
   "cell_type": "code",
   "execution_count": 111,
   "id": "bb4bf3fa",
   "metadata": {},
   "outputs": [
    {
     "data": {
      "text/plain": [
       "<matplotlib.collections.PathCollection at 0x21dc5355760>"
      ]
     },
     "execution_count": 111,
     "metadata": {},
     "output_type": "execute_result"
    },
    {
     "data": {
      "image/png": "[encoded data removed]",
      "text/plain": [
       "<Figure size 432x288 with 1 Axes>"
      ]
     },
     "metadata": {
      "needs_background": "light"
     },
     "output_type": "display_data"
    }
   ],
   "source": [
    "plt.xlabel('internet')\n",
    "plt.ylabel('marks')\n",
    "plt.scatter(data.internet,data.marks,color='red',marker='*')"
   ]
  },
  {
   "cell_type": "code",
   "execution_count": null,
   "id": "91ca9ec8",
   "metadata": {},
   "outputs": [],
   "source": []
  }
 ],
 "metadata": {
  "kernelspec": {
   "display_name": "Python 3 (ipykernel)",
   "language": "python",
   "name": "python3"
  },
  "language_info": {
   "codemirror_mode": {
    "name": "ipython",
    "version": 3
   },
   "file_extension": ".py",
   "mimetype": "text/x-python",
   "name": "python",
   "nbconvert_exporter": "python",
   "pygments_lexer": "ipython3",
   "version": "3.9.12"
  }
 },
 "nbformat": 4,
 "nbformat_minor": 5
}
